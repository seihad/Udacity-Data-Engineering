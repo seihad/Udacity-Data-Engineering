{
 "cells": [
  {
   "cell_type": "code",
   "execution_count": 1,
   "source": [
    "import psycopg2"
   ],
   "outputs": [],
   "metadata": {}
  },
  {
   "cell_type": "code",
   "execution_count": 2,
   "source": [
    "try: \n",
    "    conn = psycopg2.connect(\"host=127.0.0.1 dbname=studentdb user=student password=student\")\n",
    "except psycopg2.Error as e: \n",
    "    print(\"Error: Could not make connection to the Postgres database\")\n",
    "    print(e)"
   ],
   "outputs": [],
   "metadata": {}
  },
  {
   "cell_type": "code",
   "execution_count": 3,
   "source": [
    "try: \n",
    "    cur = conn.cursor()\n",
    "except psycopg2.Error as e: \n",
    "    print(\"Error: Could not get cursor to the Database\")\n",
    "    print(e)"
   ],
   "outputs": [],
   "metadata": {}
  },
  {
   "cell_type": "code",
   "execution_count": 4,
   "source": [
    "conn.set_session(autocommit=True)"
   ],
   "outputs": [],
   "metadata": {}
  },
  {
   "cell_type": "code",
   "execution_count": 5,
   "source": [
    "try: \n",
    "    cur.execute(\"CREATE TABLE IF NOT EXISTS customer_transactions (customer_id int, store_id int, spent float)\")\n",
    "except psycopg2.Error as e: \n",
    "    print(\"Error: Issue creating table\")\n",
    "    print (e)\n",
    "    \n",
    "#Insert into all tables \n",
    "try: \n",
    "    cur.execute(\"INSERT INTO customer_transactions (customer_id, store_id,spent) VALUES (%s, %s, %s)\", (1, 1, 20.50))\n",
    "except psycopg2.Error as e: \n",
    "    print(\"Error: Inserting Rows\")\n",
    "    print (e)\n",
    "try: \n",
    "    cur.execute(\"INSERT INTO customer_transactions (customer_id, store_id,spent) VALUES (%s, %s, %s)\", (2, 1, 35.21))\n",
    "except psycopg2.Error as e: \n",
    "    print(\"Error: Inserting Rows\")\n",
    "    print (e)\n",
    "\n",
    "\n"
   ],
   "outputs": [],
   "metadata": {}
  },
  {
   "cell_type": "code",
   "execution_count": 6,
   "source": [
    "try: \n",
    "    cur.execute(\"CREATE TABLE IF NOT EXISTS items_purchased (customer_id int, item_number int, item_name varchar)\")\n",
    "except psycopg2.Error as e: \n",
    "    print(\"Error: Issue creating table\")\n",
    "    print (e)\n",
    "    \n",
    "try: \n",
    "   cur.execute(\"INSERT INTO items_purchased (customer_id, item_number, item_name) VALUES (%s, %s, %s)\", (1, 1, \"Rubber Soul\"))\n",
    "except psycopg2.Error as e: \n",
    "    print(\"Error: Inserting Rows\")\n",
    "    print (e)\n",
    "    \n",
    "try: \n",
    "   cur.execute(\"INSERT INTO items_purchased (customer_id, item_number, item_name) VALUES (%s, %s, %s)\", (2, 3, \"Let it Be\"))\n",
    "except psycopg2.Error as e: \n",
    "    print(\"Error: Inserting Rows\")\n",
    "    print (e)\n",
    "    \n",
    "try: \n",
    "    cur.execute(\"CREATE TABLE IF NOT EXISTS customer (customer_id int, name varchar, rewards boolean)\")\n",
    "except psycopg2.Error as e: \n",
    "    print(\"Error: Issue creating table\")\n",
    "    print (e)\n",
    "    \n",
    "try: \n",
    "   cur.execute(\"INSERT INTO customer (customer_id, name, rewards) VALUES (%s, %s, %s)\", (1, \"Amanda\", True))\n",
    "except psycopg2.Error as e: \n",
    "    print(\"Error: Inserting Rows\")\n",
    "    print (e)\n",
    "try: \n",
    "   cur.execute(\"INSERT INTO customer (customer_id, name, rewards) VALUES (%s, %s, %s)\", (2, \"Toby\", False))\n",
    "except psycopg2.Error as e: \n",
    "    print(\"Error: Inserting Rows\")\n",
    "    print (e)\n",
    "    \n",
    "try: \n",
    "    cur.execute(\"CREATE TABLE IF NOT EXISTS store (store_id int, state varchar)\")\n",
    "except psycopg2.Error as e: \n",
    "    print(\"Error: Issue creating table\")\n",
    "    print (e)\n",
    "    \n",
    "try: \n",
    "    cur.execute(\"insert into store (store_id, state) VALUES (%s, %s)\", (1, \"CA\"))\n",
    "except psycopg2.Error as e: \n",
    "    print(\"Error: Inserting Rows\")\n",
    "    print (e)\n",
    "\n",
    "try: \n",
    "    cur.execute(\"insert into store (store_id, state) VALUES (%s, %s)\", (2, \"WA\"))\n",
    "except psycopg2.Error as e: \n",
    "    print(\"Error: Inserting Rows\")\n",
    "    print (e)"
   ],
   "outputs": [],
   "metadata": {}
  },
  {
   "cell_type": "code",
   "execution_count": 7,
   "source": [
    "try: \n",
    "    cur.execute(\"\"\"\n",
    "    SELECT name, customer_transactions.store_id, store.state, item_name, customer.rewards\n",
    "    FROM (((customer_transactions JOIN customer ON customer_transactions.customer_id = customer.customer_id) JOIN items_purchased ON customer_transactions.customer_id = items_purchased.customer_id) JOIN store ON customer_transactions.store_id = store.store_id)\n",
    "    WHERE spent > 30\n",
    "    \"\"\")\n",
    "    \n",
    "    \n",
    "except psycopg2.Error as e: \n",
    "    print(\"Error: select *\")\n",
    "    print (e)\n",
    "\n",
    "row = cur.fetchone()\n",
    "while row:\n",
    "   print(row)\n",
    "   row = cur.fetchone()\n"
   ],
   "outputs": [
    {
     "output_type": "stream",
     "name": "stdout",
     "text": [
      "('Toby', 1, 'CA', 'Let it Be', False)\n"
     ]
    }
   ],
   "metadata": {}
  },
  {
   "cell_type": "code",
   "execution_count": 8,
   "source": [
    "try: \n",
    "    cur.execute(\"\"\"\n",
    "    SELECT customer_id, SUM(spent) FROM customer_transactions \n",
    "    WHERE customer_id = 2 GROUP BY customer_id\n",
    "    \"\"\")\n",
    "    \n",
    "    \n",
    "except psycopg2.Error as e: \n",
    "    print(\"Error: select *\")\n",
    "    print (e)\n",
    "\n",
    "row = cur.fetchone()\n",
    "while row:\n",
    "   print(row)\n",
    "   row = cur.fetchone()"
   ],
   "outputs": [
    {
     "output_type": "stream",
     "name": "stdout",
     "text": [
      "(2, 35.21)\n"
     ]
    }
   ],
   "metadata": {}
  },
  {
   "cell_type": "code",
   "execution_count": 9,
   "source": [
    "try: \n",
    "    cur.execute(\"DROP TABLE customer_transactions, customer, items_purchased, store\")\n",
    "    \n",
    "except psycopg2.Error as e: \n",
    "    print(\"Error: Dropping table\")\n",
    "    print (e)"
   ],
   "outputs": [],
   "metadata": {}
  },
  {
   "cell_type": "code",
   "execution_count": 10,
   "source": [
    "cur.close()\n",
    "conn.close()"
   ],
   "outputs": [],
   "metadata": {}
  },
  {
   "cell_type": "code",
   "execution_count": null,
   "source": [],
   "outputs": [],
   "metadata": {}
  }
 ],
 "metadata": {
  "orig_nbformat": 4,
  "language_info": {
   "name": "python",
   "version": "3.9.2",
   "mimetype": "text/x-python",
   "codemirror_mode": {
    "name": "ipython",
    "version": 3
   },
   "pygments_lexer": "ipython3",
   "nbconvert_exporter": "python",
   "file_extension": ".py"
  },
  "kernelspec": {
   "name": "python3",
   "display_name": "Python 3.9.2 64-bit"
  },
  "interpreter": {
   "hash": "aee8b7b246df8f9039afb4144a1f6fd8d2ca17a180786b69acc140d282b71a49"
  }
 },
 "nbformat": 4,
 "nbformat_minor": 2
}